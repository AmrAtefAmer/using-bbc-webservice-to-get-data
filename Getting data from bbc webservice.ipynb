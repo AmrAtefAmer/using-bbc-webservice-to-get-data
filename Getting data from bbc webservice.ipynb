{
 "cells": [
  {
   "cell_type": "code",
   "execution_count": 1,
   "id": "b874574b",
   "metadata": {},
   "outputs": [],
   "source": [
    "import requests\n",
    "import pandas as pd"
   ]
  },
  {
   "cell_type": "code",
   "execution_count": 2,
   "id": "5952a5a8",
   "metadata": {},
   "outputs": [],
   "source": [
    "response = requests.get(r'https://push.api.bbci.co.uk/batch?t=%2Fdata%2Fbbc-morph-football-scores-match-list-data%2FendDate%2F2021-12-09%2FstartDate%2F2021-12-09%2FtodayDate%2F2021-12-09%2Ftournament%2Ffull-priority-order%2Fversion%2F2.4.6%3Ftimeout%3D5&fbclid=IwAR3iwtFaoU8e3jTPS9GmrjiCMehv0GHu4k7FIMU_5xsMnmwnVYnn-z1JSFM')"
   ]
  },
  {
   "cell_type": "code",
   "execution_count": 3,
   "id": "8a12f061",
   "metadata": {},
   "outputs": [],
   "source": [
    "results = response.json()"
   ]
  },
  {
   "cell_type": "code",
   "execution_count": 4,
   "id": "1383c305",
   "metadata": {},
   "outputs": [],
   "source": [
    "champion = []\n",
    "home_name = []\n",
    "home_score =[]\n",
    "away_name = []\n",
    "away_score= []"
   ]
  },
  {
   "cell_type": "code",
   "execution_count": 5,
   "id": "107680eb",
   "metadata": {},
   "outputs": [],
   "source": [
    "for i in  range(len(results['payload'][0]['body']['matchData'])):\n",
    "    for j in range(len(results['payload'][0]['body']['matchData'][i]['tournamentDatesWithEvents']['Thursday-9th-December'])):\n",
    "        champion.append(results['payload'][0]['body']['matchData'][i][\"tournamentMeta\"][\"tournamentName\"]['full'])\n",
    "        home_name.append(results['payload'][0]['body']['matchData'][i]['tournamentDatesWithEvents']['Thursday-9th-December'][j]['events'][0]['homeTeam']['name']['full'])\n",
    "        home_score.append(results['payload'][0]['body']['matchData'][i]['tournamentDatesWithEvents']['Thursday-9th-December'][j]['events'][0]['homeTeam']['scores']['score'])\n",
    "        away_score.append(results['payload'][0]['body']['matchData'][i]['tournamentDatesWithEvents']['Thursday-9th-December'][j]['events'][0]['awayTeam']['scores']['score'])\n",
    "        away_name.append(results['payload'][0]['body']['matchData'][i]['tournamentDatesWithEvents']['Thursday-9th-December'][j]['events'][0]['awayTeam']['name']['full'])"
   ]
  },
  {
   "cell_type": "code",
   "execution_count": 6,
   "id": "e41505d9",
   "metadata": {},
   "outputs": [],
   "source": [
    "data={'champion':champion,'home_team_name':home_name,'home_team_score':home_score,'away_team_name':away_name,'away_team_score':away_score}"
   ]
  },
  {
   "cell_type": "code",
   "execution_count": 7,
   "id": "2244d8df",
   "metadata": {},
   "outputs": [],
   "source": [
    "df = pd.DataFrame(data)"
   ]
  },
  {
   "cell_type": "code",
   "execution_count": 8,
   "id": "96ce5927",
   "metadata": {},
   "outputs": [
    {
     "data": {
      "text/html": [
       "<div>\n",
       "<style scoped>\n",
       "    .dataframe tbody tr th:only-of-type {\n",
       "        vertical-align: middle;\n",
       "    }\n",
       "\n",
       "    .dataframe tbody tr th {\n",
       "        vertical-align: top;\n",
       "    }\n",
       "\n",
       "    .dataframe thead th {\n",
       "        text-align: right;\n",
       "    }\n",
       "</style>\n",
       "<table border=\"1\" class=\"dataframe\">\n",
       "  <thead>\n",
       "    <tr style=\"text-align: right;\">\n",
       "      <th></th>\n",
       "      <th>champion</th>\n",
       "      <th>home_team_name</th>\n",
       "      <th>home_team_score</th>\n",
       "      <th>away_team_name</th>\n",
       "      <th>away_team_score</th>\n",
       "    </tr>\n",
       "  </thead>\n",
       "  <tbody>\n",
       "    <tr>\n",
       "      <th>0</th>\n",
       "      <td>UEFA Champions League</td>\n",
       "      <td>Atalanta</td>\n",
       "      <td>2.0</td>\n",
       "      <td>Villarreal</td>\n",
       "      <td>3.0</td>\n",
       "    </tr>\n",
       "    <tr>\n",
       "      <th>1</th>\n",
       "      <td>UEFA Europa League</td>\n",
       "      <td>Lyon</td>\n",
       "      <td>1.0</td>\n",
       "      <td>Rangers</td>\n",
       "      <td>1.0</td>\n",
       "    </tr>\n",
       "    <tr>\n",
       "      <th>2</th>\n",
       "      <td>UEFA Europa League</td>\n",
       "      <td>Real Sociedad</td>\n",
       "      <td>3.0</td>\n",
       "      <td>PSV Eindhoven</td>\n",
       "      <td>0.0</td>\n",
       "    </tr>\n",
       "    <tr>\n",
       "      <th>3</th>\n",
       "      <td>UEFA Europa League</td>\n",
       "      <td>Legia Warsaw</td>\n",
       "      <td>0.0</td>\n",
       "      <td>Spartak Moscow</td>\n",
       "      <td>1.0</td>\n",
       "    </tr>\n",
       "    <tr>\n",
       "      <th>4</th>\n",
       "      <td>UEFA Europa League</td>\n",
       "      <td>Fenerbahçe</td>\n",
       "      <td>1.0</td>\n",
       "      <td>Eintracht Frankfurt</td>\n",
       "      <td>1.0</td>\n",
       "    </tr>\n",
       "  </tbody>\n",
       "</table>\n",
       "</div>"
      ],
      "text/plain": [
       "                champion home_team_name  home_team_score       away_team_name  \\\n",
       "0  UEFA Champions League       Atalanta              2.0           Villarreal   \n",
       "1     UEFA Europa League           Lyon              1.0              Rangers   \n",
       "2     UEFA Europa League  Real Sociedad              3.0        PSV Eindhoven   \n",
       "3     UEFA Europa League   Legia Warsaw              0.0       Spartak Moscow   \n",
       "4     UEFA Europa League     Fenerbahçe              1.0  Eintracht Frankfurt   \n",
       "\n",
       "   away_team_score  \n",
       "0              3.0  \n",
       "1              1.0  \n",
       "2              0.0  \n",
       "3              1.0  \n",
       "4              1.0  "
      ]
     },
     "execution_count": 8,
     "metadata": {},
     "output_type": "execute_result"
    }
   ],
   "source": [
    "df.head()"
   ]
  },
  {
   "cell_type": "code",
   "execution_count": 9,
   "id": "97b91314",
   "metadata": {},
   "outputs": [],
   "source": [
    "df.to_csv('cnn_data.csv')"
   ]
  },
  {
   "cell_type": "code",
   "execution_count": null,
   "id": "ac18835c",
   "metadata": {},
   "outputs": [],
   "source": []
  }
 ],
 "metadata": {
  "kernelspec": {
   "display_name": "Python 3",
   "language": "python",
   "name": "python3"
  },
  "language_info": {
   "codemirror_mode": {
    "name": "ipython",
    "version": 3
   },
   "file_extension": ".py",
   "mimetype": "text/x-python",
   "name": "python",
   "nbconvert_exporter": "python",
   "pygments_lexer": "ipython3",
   "version": "3.8.8"
  }
 },
 "nbformat": 4,
 "nbformat_minor": 5
}
